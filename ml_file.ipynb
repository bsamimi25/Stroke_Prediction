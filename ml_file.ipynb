{
 "cells": [
  {
   "cell_type": "code",
   "execution_count": 31,
   "metadata": {},
   "outputs": [],
   "source": [
    "from sklearn.model_selection import train_test_split\n",
    "from sklearn.preprocessing import StandardScaler\n",
    "from sklearn.linear_model import LogisticRegression\n",
    "from sklearn.neighbors import KNeighborsClassifier\n",
    "from sklearn.tree import DecisionTreeClassifier\n",
    "from sklearn.svm import LinearSVC, SVC\n",
    "from sklearn.neural_network import MLPClassifier\n",
    "from sklearn.ensemble import RandomForestClassifier, GradientBoostingClassifier\n",
    "# from xgboost import XGBClassifier\n",
    "# from lightgbm import LGBMClassifier\n",
    "# from catboost import CatBoostClassifier\n",
    "from sklearn.impute import KNNImputer\n",
    "\n",
    "\n",
    "from sklearn.metrics import accuracy_score, f1_score\n",
    "\n",
    "import numpy as np \n",
    "import pandas as pd \n",
    "import os \n",
    "\n"
   ]
  },
  {
   "cell_type": "code",
   "execution_count": 32,
   "metadata": {},
   "outputs": [
    {
     "data": {
      "text/html": [
       "<div>\n",
       "<style scoped>\n",
       "    .dataframe tbody tr th:only-of-type {\n",
       "        vertical-align: middle;\n",
       "    }\n",
       "\n",
       "    .dataframe tbody tr th {\n",
       "        vertical-align: top;\n",
       "    }\n",
       "\n",
       "    .dataframe thead th {\n",
       "        text-align: right;\n",
       "    }\n",
       "</style>\n",
       "<table border=\"1\" class=\"dataframe\">\n",
       "  <thead>\n",
       "    <tr style=\"text-align: right;\">\n",
       "      <th></th>\n",
       "      <th>app_id</th>\n",
       "      <th>gender</th>\n",
       "      <th>age</th>\n",
       "      <th>hypertension</th>\n",
       "      <th>heart_disease</th>\n",
       "      <th>ever_married</th>\n",
       "      <th>work_type</th>\n",
       "      <th>Residence_type</th>\n",
       "      <th>avg_glucose_level</th>\n",
       "      <th>bmi</th>\n",
       "      <th>smoking_status</th>\n",
       "      <th>stroke</th>\n",
       "    </tr>\n",
       "  </thead>\n",
       "  <tbody>\n",
       "    <tr>\n",
       "      <th>0</th>\n",
       "      <td>9046</td>\n",
       "      <td>Male</td>\n",
       "      <td>67.0</td>\n",
       "      <td>0</td>\n",
       "      <td>1</td>\n",
       "      <td>Yes</td>\n",
       "      <td>Private</td>\n",
       "      <td>Urban</td>\n",
       "      <td>228.69</td>\n",
       "      <td>36.6</td>\n",
       "      <td>formerly smoked</td>\n",
       "      <td>1</td>\n",
       "    </tr>\n",
       "    <tr>\n",
       "      <th>1</th>\n",
       "      <td>51676</td>\n",
       "      <td>Female</td>\n",
       "      <td>61.0</td>\n",
       "      <td>0</td>\n",
       "      <td>0</td>\n",
       "      <td>Yes</td>\n",
       "      <td>Self-employed</td>\n",
       "      <td>Rural</td>\n",
       "      <td>202.21</td>\n",
       "      <td>NaN</td>\n",
       "      <td>never smoked</td>\n",
       "      <td>1</td>\n",
       "    </tr>\n",
       "    <tr>\n",
       "      <th>2</th>\n",
       "      <td>31112</td>\n",
       "      <td>Male</td>\n",
       "      <td>80.0</td>\n",
       "      <td>0</td>\n",
       "      <td>1</td>\n",
       "      <td>Yes</td>\n",
       "      <td>Private</td>\n",
       "      <td>Rural</td>\n",
       "      <td>105.92</td>\n",
       "      <td>32.5</td>\n",
       "      <td>never smoked</td>\n",
       "      <td>1</td>\n",
       "    </tr>\n",
       "    <tr>\n",
       "      <th>3</th>\n",
       "      <td>60182</td>\n",
       "      <td>Female</td>\n",
       "      <td>49.0</td>\n",
       "      <td>0</td>\n",
       "      <td>0</td>\n",
       "      <td>Yes</td>\n",
       "      <td>Private</td>\n",
       "      <td>Urban</td>\n",
       "      <td>171.23</td>\n",
       "      <td>34.4</td>\n",
       "      <td>smokes</td>\n",
       "      <td>1</td>\n",
       "    </tr>\n",
       "    <tr>\n",
       "      <th>4</th>\n",
       "      <td>1665</td>\n",
       "      <td>Female</td>\n",
       "      <td>79.0</td>\n",
       "      <td>1</td>\n",
       "      <td>0</td>\n",
       "      <td>Yes</td>\n",
       "      <td>Self-employed</td>\n",
       "      <td>Rural</td>\n",
       "      <td>174.12</td>\n",
       "      <td>24.0</td>\n",
       "      <td>never smoked</td>\n",
       "      <td>1</td>\n",
       "    </tr>\n",
       "  </tbody>\n",
       "</table>\n",
       "</div>"
      ],
      "text/plain": [
       "   app_id  gender   age  hypertension  heart_disease ever_married  \\\n",
       "0    9046    Male  67.0             0              1          Yes   \n",
       "1   51676  Female  61.0             0              0          Yes   \n",
       "2   31112    Male  80.0             0              1          Yes   \n",
       "3   60182  Female  49.0             0              0          Yes   \n",
       "4    1665  Female  79.0             1              0          Yes   \n",
       "\n",
       "       work_type Residence_type  avg_glucose_level   bmi   smoking_status  \\\n",
       "0        Private          Urban             228.69  36.6  formerly smoked   \n",
       "1  Self-employed          Rural             202.21   NaN     never smoked   \n",
       "2        Private          Rural             105.92  32.5     never smoked   \n",
       "3        Private          Urban             171.23  34.4           smokes   \n",
       "4  Self-employed          Rural             174.12  24.0     never smoked   \n",
       "\n",
       "   stroke  \n",
       "0       1  \n",
       "1       1  \n",
       "2       1  \n",
       "3       1  \n",
       "4       1  "
      ]
     },
     "execution_count": 32,
     "metadata": {},
     "output_type": "execute_result"
    }
   ],
   "source": [
    "data=pd.read_csv(\"Resources/healthcare-dataset-stroke-data.csv\")\n",
    "data.head()"
   ]
  },
  {
   "cell_type": "code",
   "execution_count": 43,
   "metadata": {},
   "outputs": [],
   "source": [
    "def onehot_encode(df, column):\n",
    "    df = df.copy()\n",
    "    dummies = pd.get_dummies(df[column], prefix=column)\n",
    "    df = pd.concat([df, dummies], axis=1)\n",
    "    df = df.drop(column, axis=1)\n",
    "    return df"
   ]
  },
  {
   "cell_type": "code",
   "execution_count": 46,
   "metadata": {},
   "outputs": [],
   "source": [
    "def preprocess_inputs(df):\n",
    "    df = df.copy()\n",
    "    \n",
    "    # Drop id column\n",
    "    df = df.drop('app_id', axis=1)\n",
    "    \n",
    "    # Binary encoding\n",
    "    df['ever_married'] = df['ever_married'].replace({'No': 0, 'Yes': 1})\n",
    "    df['Residence_type'] = df['Residence_type'].replace({'Rural': 0, 'Urban': 1})\n",
    "    \n",
    "    # One-hot encoding\n",
    "    for column in ['gender', 'work_type', 'smoking_status']:\n",
    "        df = onehot_encode(df, column=column)\n",
    "    \n",
    "    # Split df into X and y\n",
    "    y = df['stroke']\n",
    "    X = df.drop('stroke', axis=1)\n",
    "    \n",
    "    # Train-test split\n",
    "    X_train, X_test, y_train, y_test = train_test_split(X, y, train_size=0.7, shuffle=True, random_state=1)\n",
    "    \n",
    "    \n",
    "    # KNN imputation of missing values\n",
    "    imputer = KNNImputer()\n",
    "    imputer.fit(X_train)\n",
    "    X_train = pd.DataFrame(imputer.transform(X_train), index=X_train.index, columns=X_train.columns)\n",
    "    X_test = pd.DataFrame(imputer.transform(X_test), index=X_test.index, columns=X_test.columns)\n",
    "    \n",
    "    # Scale X\n",
    "    scaler = StandardScaler()\n",
    "    scaler.fit(X_train)\n",
    "    X_train = pd.DataFrame(scaler.transform(X_train), index=X_train.index, columns=X_train.columns)\n",
    "    X_test = pd.DataFrame(scaler.transform(X_test), index=X_test.index, columns=X_test.columns)\n",
    "    \n",
    "    return X_train, X_test, y_train, y_test\n",
    "    "
   ]
  },
  {
   "cell_type": "code",
   "execution_count": 47,
   "metadata": {},
   "outputs": [],
   "source": [
    "X_train, X_test, y_train, y_test = preprocess_inputs(data)\n"
   ]
  },
  {
   "cell_type": "code",
   "execution_count": 50,
   "metadata": {},
   "outputs": [
    {
     "name": "stdout",
     "output_type": "stream",
     "text": [
      " Logistic Regressiontrained\n",
      " K-Nearest Nieghborstrained\n",
      " Decision Treetrained\n",
      " Support Vector Machine (RBF Kernel)trained\n"
     ]
    },
    {
     "name": "stderr",
     "output_type": "stream",
     "text": [
      "/Users/bijansamimi/anaconda3/envs/mlenv/lib/python3.7/site-packages/sklearn/svm/_base.py:977: ConvergenceWarning: Liblinear failed to converge, increase the number of iterations.\n",
      "  \"the number of iterations.\", ConvergenceWarning)\n"
     ]
    },
    {
     "name": "stdout",
     "output_type": "stream",
     "text": [
      " Support Vector Machine (Linear Kernel)trained\n"
     ]
    },
    {
     "name": "stderr",
     "output_type": "stream",
     "text": [
      "/Users/bijansamimi/anaconda3/envs/mlenv/lib/python3.7/site-packages/sklearn/neural_network/_multilayer_perceptron.py:585: ConvergenceWarning: Stochastic Optimizer: Maximum iterations (200) reached and the optimization hasn't converged yet.\n",
      "  % self.max_iter, ConvergenceWarning)\n"
     ]
    },
    {
     "name": "stdout",
     "output_type": "stream",
     "text": [
      " Neural Networktrained\n",
      " Random Foresttrained\n",
      " Gradient Boostingtrained\n"
     ]
    }
   ],
   "source": [
    "models={\n",
    "   \" Logistic Regression\": LogisticRegression(),\n",
    "    \" K-Nearest Nieghbors\": KNeighborsClassifier(),\n",
    "    \" Decision Tree\": DecisionTreeClassifier(),\n",
    "    \" Support Vector Machine (RBF Kernel)\": SVC(),\n",
    "    \" Support Vector Machine (Linear Kernel)\": LinearSVC(),\n",
    "    \" Neural Network\": MLPClassifier(),\n",
    "    \" Random Forest\": RandomForestClassifier(),\n",
    "    \" Gradient Boosting\": GradientBoostingClassifier()\n",
    "        }\n",
    "\n",
    "\n",
    "for name, model in models.items():\n",
    "    model.fit(X_train, y_train)\n",
    "    print(name + \"trained\")"
   ]
  },
  {
   "cell_type": "code",
   "execution_count": 54,
   "metadata": {},
   "outputs": [
    {
     "name": "stdout",
     "output_type": "stream",
     "text": [
      "Model Scores\n",
      " ----------------------------\n",
      "\n",
      " Logistic Regression Accuracy: 94.586%\n",
      "\t\t\t\t       F1-Score: 0.00000\n",
      "\n",
      " K-Nearest Nieghbors Accuracy: 94.260%\n",
      "\t\t\t\t       F1-Score: 0.00000\n",
      "\n",
      " Decision Tree Accuracy: 90.802%\n",
      "\t\t\t\t       F1-Score: 0.16568\n",
      "\n",
      " Support Vector Machine (RBF Kernel) Accuracy: 94.586%\n",
      "\t\t\t\t       F1-Score: 0.00000\n",
      "\n",
      " Support Vector Machine (Linear Kernel) Accuracy: 94.586%\n",
      "\t\t\t\t       F1-Score: 0.00000\n",
      "\n",
      " Neural Network Accuracy: 94.064%\n",
      "\t\t\t\t       F1-Score: 0.02151\n",
      "\n",
      " Random Forest Accuracy: 94.455%\n",
      "\t\t\t\t       F1-Score: 0.00000\n",
      "\n",
      " Gradient Boosting Accuracy: 94.586%\n",
      "\t\t\t\t       F1-Score: 0.00000\n"
     ]
    }
   ],
   "source": [
    "print(\"Model Scores\\n ----------------------------\")\n",
    "\n",
    "for name, model in models.items():\n",
    "    y_pred=model.predict(X_test)\n",
    "    \n",
    "    print(\n",
    "        \"\\n\" + name + \" Accuracy: {:.3f}%\\n\\t\\t\\t\\t       F1-Score: {:.5f}\"\\\n",
    "        .format(accuracy_score(y_test, y_pred) * 100, f1_score(y_test, y_pred))\n",
    "    )"
   ]
  },
  {
   "cell_type": "code",
   "execution_count": 55,
   "metadata": {},
   "outputs": [],
   "source": [
    "# Fix Class Imbalance\n",
    "\n",
    "oversampled_data= pd.concat([X_train, y_train], axis=1).copy()\n",
    "\n",
    "\n",
    "num_samples = y_train.value_counts()[0] - y_train.value_counts()[1]\n",
    "new_samples = oversampled_data.query(\"stroke == 1\").sample(num_samples, replace=True, random_state=1)\n",
    "\n",
    "oversampled_data = pd.concat([oversampled_data, new_samples], axis=0).sample(frac=1.0, random_state=1).reset_index(drop=True)\n",
    "\n",
    "y_train_oversampled = oversampled_data['stroke']\n",
    "X_train_oversampled = oversampled_data.drop('stroke', axis=1)\n"
   ]
  },
  {
   "cell_type": "code",
   "execution_count": 59,
   "metadata": {},
   "outputs": [
    {
     "name": "stdout",
     "output_type": "stream",
     "text": [
      " Logistic Regression trained.\n",
      " K-Nearest Nieghbors trained.\n",
      " Decision Tree trained.\n",
      " Support Vector Machine (RBF Kernel) trained.\n"
     ]
    },
    {
     "name": "stderr",
     "output_type": "stream",
     "text": [
      "/Users/bijansamimi/anaconda3/envs/mlenv/lib/python3.7/site-packages/sklearn/svm/_base.py:977: ConvergenceWarning: Liblinear failed to converge, increase the number of iterations.\n",
      "  \"the number of iterations.\", ConvergenceWarning)\n"
     ]
    },
    {
     "name": "stdout",
     "output_type": "stream",
     "text": [
      " Support Vector Machine (Linear Kernel) trained.\n"
     ]
    },
    {
     "name": "stderr",
     "output_type": "stream",
     "text": [
      "/Users/bijansamimi/anaconda3/envs/mlenv/lib/python3.7/site-packages/sklearn/neural_network/_multilayer_perceptron.py:585: ConvergenceWarning: Stochastic Optimizer: Maximum iterations (200) reached and the optimization hasn't converged yet.\n",
      "  % self.max_iter, ConvergenceWarning)\n"
     ]
    },
    {
     "name": "stdout",
     "output_type": "stream",
     "text": [
      " Neural Network trained.\n",
      " Random Forest trained.\n",
      " Gradient Boosting trained.\n"
     ]
    }
   ],
   "source": [
    "models={\n",
    "   \" Logistic Regression\": LogisticRegression(),\n",
    "    \" K-Nearest Nieghbors\": KNeighborsClassifier(),\n",
    "    \" Decision Tree\": DecisionTreeClassifier(),\n",
    "    \" Support Vector Machine (RBF Kernel)\": SVC(),\n",
    "    \" Support Vector Machine (Linear Kernel)\": LinearSVC(),\n",
    "    \" Neural Network\": MLPClassifier(),\n",
    "    \" Random Forest\": RandomForestClassifier(),\n",
    "    \" Gradient Boosting\": GradientBoostingClassifier()\n",
    "        }\n",
    "\n",
    "for name, model in models.items():\n",
    "    model.fit(X_train_oversampled, y_train_oversampled)\n",
    "    print(name + \" trained.\")"
   ]
  },
  {
   "cell_type": "code",
   "execution_count": 60,
   "metadata": {},
   "outputs": [
    {
     "name": "stdout",
     "output_type": "stream",
     "text": [
      "Model Performance\n",
      "-----------------\n",
      "\n",
      " Logistic Regression Accuracy: 73.190%\n",
      "\t\t\t\t       F1-Score: 0.25678\n",
      "\n",
      " K-Nearest Nieghbors Accuracy: 85.845%\n",
      "\t\t\t\t       F1-Score: 0.11429\n",
      "\n",
      " Decision Tree Accuracy: 92.237%\n",
      "\t\t\t\t       F1-Score: 0.16783\n",
      "\n",
      " Support Vector Machine (RBF Kernel) Accuracy: 78.082%\n",
      "\t\t\t\t       F1-Score: 0.19617\n",
      "\n",
      " Support Vector Machine (Linear Kernel) Accuracy: 72.929%\n",
      "\t\t\t\t       F1-Score: 0.25760\n",
      "\n",
      " Neural Network Accuracy: 85.975%\n",
      "\t\t\t\t       F1-Score: 0.16342\n",
      "\n",
      " Random Forest Accuracy: 93.803%\n",
      "\t\t\t\t       F1-Score: 0.04040\n",
      "\n",
      " Gradient Boosting Accuracy: 79.256%\n",
      "\t\t\t\t       F1-Score: 0.22439\n"
     ]
    }
   ],
   "source": [
    "print(\"Model Performance\\n-----------------\")\n",
    "for name, model in models.items():\n",
    "    y_pred = model.predict(X_test)\n",
    "    print(\n",
    "        \"\\n\" + name + \" Accuracy: {:.3f}%\\n\\t\\t\\t\\t       F1-Score: {:.5f}\"\\\n",
    "        .format(accuracy_score(y_test, y_pred) * 100, f1_score(y_test, y_pred))\n",
    "    )"
   ]
  },
  {
   "cell_type": "code",
   "execution_count": null,
   "metadata": {},
   "outputs": [],
   "source": []
  }
 ],
 "metadata": {
  "kernelspec": {
   "display_name": "mlenv",
   "language": "python",
   "name": "mlenv"
  },
  "language_info": {
   "codemirror_mode": {
    "name": "ipython",
    "version": 3
   },
   "file_extension": ".py",
   "mimetype": "text/x-python",
   "name": "python",
   "nbconvert_exporter": "python",
   "pygments_lexer": "ipython3",
   "version": "3.7.7"
  }
 },
 "nbformat": 4,
 "nbformat_minor": 4
}
